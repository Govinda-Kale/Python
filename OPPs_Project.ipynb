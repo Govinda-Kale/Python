{
  "nbformat": 4,
  "nbformat_minor": 0,
  "metadata": {
    "colab": {
      "provenance": [],
      "authorship_tag": "ABX9TyN8Gn+H9WOhwD/sBZAtGbUs",
      "include_colab_link": true
    },
    "kernelspec": {
      "name": "python3",
      "display_name": "Python 3"
    },
    "language_info": {
      "name": "python"
    }
  },
  "cells": [
    {
      "cell_type": "markdown",
      "metadata": {
        "id": "view-in-github",
        "colab_type": "text"
      },
      "source": [
        "<a href=\"https://colab.research.google.com/github/Govinda-Kale/Python/blob/main/OPPs_Project.ipynb\" target=\"_parent\"><img src=\"https://colab.research.google.com/assets/colab-badge.svg\" alt=\"Open In Colab\"/></a>"
      ]
    },
    {
      "cell_type": "code",
      "execution_count": 3,
      "metadata": {
        "colab": {
          "base_uri": "https://localhost:8080/"
        },
        "id": "21wup_r_ZRfD",
        "outputId": "e707fbfa-0c00-4b55-d135-55fce7c78047"
      },
      "outputs": [
        {
          "output_type": "execute_result",
          "data": {
            "text/plain": [
              "{'scored_labels': [{'label': 'POSITIVE', 'score': 1},\n",
              "  {'label': 'joy', 'score': 1}]}"
            ]
          },
          "metadata": {},
          "execution_count": 3
        }
      ],
      "source": [
        "import nlpcloud\n",
        "\n",
        "client = nlpcloud.Client(\"finetuned-llama-3-70b\", \"19d6941bffb86e89614e67092fc829d9cc9da793\", gpu=True)\n",
        "client.sentiment(\n",
        "    \"\"\"I hate convoluted products with poor documentation. I see such products all the time. But NLP Cloud is not like that!\"\"\",\n",
        "    target=\"NLP Cloud\"\n",
        ")"
      ]
    },
    {
      "cell_type": "code",
      "source": [
        "class NLPApp:\n",
        "    def __init__(self):\n",
        "        self.__database={}\n",
        "        self.__first_menu()\n",
        "    def __first_menu(self):\n",
        "        first_input = int(input('''\n",
        "        Hi! How would you like to proceed\n",
        "        1. Not a Member? Register\n",
        "        2. Already a Member? Login\n",
        "        3. Exit '''))\n",
        "\n",
        "        if first_input==1:\n",
        "            self.__register()\n",
        "        elif first_input==2:\n",
        "            self.__login()\n",
        "        else:\n",
        "            self.__exit()\n",
        "\n",
        "    def __register(self):\n",
        "        name= input(\"Enter Name\")\n",
        "        UserId= input(\"Enter Email\")\n",
        "        password= input(\"Enter Password\")\n",
        "\n",
        "        if UserId in self.__database:\n",
        "            print(\"Email Already Registered Please Login\")\n",
        "            self.__login(self)\n",
        "        else:\n",
        "            self.__database[UserId] = [name,password]\n",
        "            print(self.__database)\n",
        "            self.__login()\n",
        "\n",
        "    def __login(self):\n",
        "        loginmail = input(\"Enter your registered Mail\")\n",
        "        loginpass= input(\"Enter password for login\")\n",
        "        if loginmail in self.__database:\n",
        "            if self.__database[loginmail][1]==loginpass:\n",
        "                print('Login successful')\n",
        "                self.__second_menu()\n",
        "            else:\n",
        "                print(\"Wrong password Please Enter Correct Password\")\n",
        "                self.__login()\n",
        "        else:\n",
        "            print(\"email not regitered Please Register\")\n",
        "            self.__register()\n",
        "\n",
        "            #Second menu\n",
        "    def __second_menu(self):\n",
        "        second_input = int(input('''\n",
        "        Hi! How would you like to proceed\n",
        "        1. NER\n",
        "        2.Language detection\n",
        "        3. Sentimental Analysis\n",
        "        4.Logout '''))\n",
        "        def Sentimental_Analysis(self):\n",
        "          paragraph= input(\"Enter a paragraph for emotion analysis\")\n",
        "          client = nlpcloud.Client(\"finetuned-llama-3-70b\", \"19d6941bffb86e89614e67092fc829d9cc9da793\", gpu=True)\n",
        "          response= client.sentiment(paragraph,target=\"NLP Cloud\")\n",
        "          print(response)\n",
        "          return response\n",
        "\n",
        "\n",
        "        if second_input==1:\n",
        "            self.__NER()\n",
        "        elif second_input==2:\n",
        "            self.__Language_detection()\n",
        "        elif second_input==3:\n",
        "            self.Sentimental_Analysis()\n",
        "        else:\n",
        "            self.__logout()\n",
        "        def __NER(self):\n",
        "          pass\n",
        "        def __Language_detection(self):\n",
        "          pass\n",
        "\n",
        "        def __logout(self):\n",
        "          pass\n",
        "    def __exit(self):\n",
        "        exit()\n",
        "\n"
      ],
      "metadata": {
        "id": "78yhoZXNaIxf"
      },
      "execution_count": 8,
      "outputs": []
    },
    {
      "cell_type": "code",
      "source": [
        "!pip install nlpcloud"
      ],
      "metadata": {
        "colab": {
          "base_uri": "https://localhost:8080/"
        },
        "id": "10Zj4kUcaVA-",
        "outputId": "794e748f-ccf2-4aad-be41-68f5c3bb0f97"
      },
      "execution_count": 2,
      "outputs": [
        {
          "output_type": "stream",
          "name": "stdout",
          "text": [
            "Collecting nlpcloud\n",
            "  Downloading nlpcloud-1.1.47-py3-none-any.whl.metadata (1.1 kB)\n",
            "Requirement already satisfied: requests in /usr/local/lib/python3.11/dist-packages (from nlpcloud) (2.32.3)\n",
            "Requirement already satisfied: charset-normalizer<4,>=2 in /usr/local/lib/python3.11/dist-packages (from requests->nlpcloud) (3.4.1)\n",
            "Requirement already satisfied: idna<4,>=2.5 in /usr/local/lib/python3.11/dist-packages (from requests->nlpcloud) (3.10)\n",
            "Requirement already satisfied: urllib3<3,>=1.21.1 in /usr/local/lib/python3.11/dist-packages (from requests->nlpcloud) (2.3.0)\n",
            "Requirement already satisfied: certifi>=2017.4.17 in /usr/local/lib/python3.11/dist-packages (from requests->nlpcloud) (2025.1.31)\n",
            "Downloading nlpcloud-1.1.47-py3-none-any.whl (3.9 kB)\n",
            "Installing collected packages: nlpcloud\n",
            "Successfully installed nlpcloud-1.1.47\n"
          ]
        }
      ]
    },
    {
      "cell_type": "code",
      "source": [
        "class NLPApp:\n",
        "    def __init__(self):\n",
        "        self.__database={}\n",
        "        self.__first_menu()\n",
        "    def __first_menu(self):\n",
        "        first_input = int(input('''\n",
        "        Hi! How would you like to proceed\n",
        "        1. Not a Member? Register\n",
        "        2. Already a Member? Login\n",
        "        3. Exit '''))\n",
        "\n",
        "        if first_input==1:\n",
        "            self.__register()\n",
        "        elif first_input==2:\n",
        "            self.__login()\n",
        "        else:\n",
        "            self.__exit()\n",
        "\n",
        "    def __register(self):\n",
        "        name= input(\"Enter Name\")\n",
        "        UserId= input(\"Enter Email\")\n",
        "        password= input(\"Enter Password\")\n",
        "\n",
        "        if UserId in self.__database:\n",
        "            print(\"Email Already Registered Please Login\")\n",
        "            self.__login(self) #Fixed: Removed extra self\n",
        "        else:\n",
        "            self.__database[UserId] = [name,password]\n",
        "            print(self.__database)\n",
        "            self.__login()\n",
        "\n",
        "    def __login(self):\n",
        "        loginmail = input(\"Enter your registered Mail\")\n",
        "        loginpass= input(\"Enter password for login\")\n",
        "        if loginmail in self.__database:\n",
        "            if self.__database[loginmail][1]==loginpass:\n",
        "                print('Login successful')\n",
        "                self.__second_menu()\n",
        "            else:\n",
        "                print(\"Wrong password Please Enter Correct Password\")\n",
        "                self.__login()\n",
        "        else:\n",
        "            print(\"email not regitered Please Register\")\n",
        "            self.__register()\n",
        "\n",
        "            #Second menu\n",
        "    def __second_menu(self):\n",
        "        second_input = int(input('''\n",
        "        Hi! How would you like to proceed\n",
        "        1. NER\n",
        "        2.Language detection\n",
        "        3. Sentimental Analysis\n",
        "        4.Logout '''))\n",
        "\n",
        "        #Fixed: Moved Sentimental_Analysis function outside __second_menu and made it a method of NLPApp class\n",
        "        def Sentimental_Analysis(self):\n",
        "            paragraph= input(\"Enter a paragraph for emotion analysis\")\n",
        "            client = nlpcloud.Client(\"finetuned-llama-3-70b\", \"19d6941bffb86e89614e67092fc829d9cc9da793\", gpu=True)\n",
        "            response= client.sentiment(paragraph,target=\"NLP Cloud\")\n",
        "            print(response)\n",
        "            return response\n",
        "        #Fixed: Calling Sentimental_Analysis with self. to ensure it's referencing the class method\n",
        "        if second_input==1:\n",
        "            self.__NER()\n",
        "        elif second_input==2:\n",
        "            self.__Language_detection()\n",
        "        elif second_input==3:\n",
        "            Sentimental_Analysis(self) #Fixed: Calling Sentimental_Analysis with self to ensure it's referencing the class method\n",
        "        else:\n",
        "            self.__logout()\n",
        "\n",
        "        #Fixed: Moved methods inside the class and indented them properly\n",
        "        def __NER(self):\n",
        "            pass\n",
        "        def __Language_detection(self):\n",
        "            pass\n",
        "        def __logout(self):\n",
        "            pass\n",
        "    def __exit(self):\n",
        "        exit()"
      ],
      "metadata": {
        "id": "iTcExF2MaInF"
      },
      "execution_count": 23,
      "outputs": []
    },
    {
      "cell_type": "code",
      "source": [
        "NLPApp()"
      ],
      "metadata": {
        "colab": {
          "base_uri": "https://localhost:8080/"
        },
        "id": "v4g42laUaIsF",
        "outputId": "16f33adb-630e-4b79-d2ca-bd16a1d5d633"
      },
      "execution_count": 24,
      "outputs": [
        {
          "output_type": "stream",
          "name": "stdout",
          "text": [
            "\n",
            "        Hi! How would you like to proceed \n",
            "        1. Not a Member? Register\n",
            "        2. Already a Member? Login \n",
            "        3. Exit 1\n",
            "Enter Namevrushali\n",
            "Enter Emailv@mailme\n",
            "Enter Password123\n",
            "{'v@mailme': ['vrushali', '123']}\n",
            "Enter your registered Mailv@mailme\n",
            "Enter password for login123\n",
            "Login successful\n",
            "\n",
            "        Hi! How would you like to proceed \n",
            "        1. NER\n",
            "        2.Language detection\n",
            "        3. Sentimental Analysis\n",
            "        4.Logout 3\n",
            "Enter a paragraph for emotion analysisIf you're going to watch this movie, avoid any spoilers, even spoiler free reviews. Which is why I'm not going to say anything about the movie. Not even my opinion. All I'm going to say is:  The crowd applauded 3 times during the movie, and stood up to clap their hands after. This I have never witnessed in a Dutch cinema. Dutch crowds aren't usually passionate about this. I checked the row where I was sitting, and people were crying. After the movie, I was seeing people with smudged mascara. That's all I have to say about the movie.\n",
            "{'scored_labels': [{'label': 'NEUTRAL', 'score': 1}, {'label': 'surprise', 'score': 1}]}\n"
          ]
        },
        {
          "output_type": "execute_result",
          "data": {
            "text/plain": [
              "<__main__.NLPApp at 0x7b148dfb95d0>"
            ]
          },
          "metadata": {},
          "execution_count": 24
        }
      ]
    },
    {
      "cell_type": "code",
      "source": [
        "d={'scored_labels': [{'label': 'NEUTRAL', 'score': 1}, {'label': 'surprise', 'score': 1}]}"
      ],
      "metadata": {
        "id": "qRK9VLIZaIhg"
      },
      "execution_count": 25,
      "outputs": []
    },
    {
      "cell_type": "code",
      "source": [
        "print(d['scored_labels'][0]['label'])\n",
        "print(d['scored_labels'][1]['label'])\n"
      ],
      "metadata": {
        "colab": {
          "base_uri": "https://localhost:8080/"
        },
        "id": "Ghb3wtkkaIge",
        "outputId": "981b6081-4a85-40b7-aa68-3e6a443fe2af"
      },
      "execution_count": 27,
      "outputs": [
        {
          "output_type": "stream",
          "name": "stdout",
          "text": [
            "NEUTRAL\n",
            "surprise\n"
          ]
        }
      ]
    },
    {
      "cell_type": "code",
      "source": [
        "def Sentimental_Analysis():\n",
        "            paragraph= input(\"Enter a paragraph for emotion analysis\")\n",
        "            client = nlpcloud.Client(\"finetuned-llama-3-70b\", \"19d6941bffb86e89614e67092fc829d9cc9da793\", gpu=True)\n",
        "            response= client.sentiment(paragraph,target=\"NLP Cloud\")\n",
        "            print(response)\n",
        "            return response"
      ],
      "metadata": {
        "id": "Vd77EEShaIWe"
      },
      "execution_count": 31,
      "outputs": []
    },
    {
      "cell_type": "code",
      "source": [
        "Sentimental_Analysis()"
      ],
      "metadata": {
        "colab": {
          "base_uri": "https://localhost:8080/"
        },
        "id": "e7MreMsOgjhx",
        "outputId": "d8cccd12-67d3-4d37-ef9d-8978fdfe41e9"
      },
      "execution_count": 33,
      "outputs": [
        {
          "output_type": "stream",
          "name": "stdout",
          "text": [
            "Enter a paragraph for emotion analysisAfter Infinity War I had huge expectations. Unfortunately I think it doesn't follow the comic book at all because they wanted some kind of closure of the story. I saw a lot of 10 star reviews and I cannot believe the majority of people like this movie more than Infinity War. I'm not saying it wasn't entertainment to watch but the feeling is that all heroes were forced to fit in a movie paying a big price to the story. There are moments in the movie where the rules from all other Marvel movies are broken and characters which were build over hours of screen time were reduced in order to make space for others. The story is average at best with big flaws.\n",
            "{'scored_labels': [{'label': 'NEGATIVE', 'score': 1}, {'label': 'frustration', 'score': 1}]}\n"
          ]
        },
        {
          "output_type": "execute_result",
          "data": {
            "text/plain": [
              "{'scored_labels': [{'label': 'NEGATIVE', 'score': 1},\n",
              "  {'label': 'frustration', 'score': 1}]}"
            ]
          },
          "metadata": {},
          "execution_count": 33
        }
      ]
    }
  ]
}